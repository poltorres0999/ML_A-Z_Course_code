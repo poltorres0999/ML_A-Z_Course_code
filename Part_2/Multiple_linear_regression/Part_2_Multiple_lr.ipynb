{
 "cells": [
  {
   "cell_type": "markdown",
   "metadata": {},
   "source": [
    "# Part 2: Multiple Linear Regression"
   ]
  },
  {
   "cell_type": "markdown",
   "metadata": {},
   "source": [
    "Multiple linear regression is based on the same idea as Simple Linear Regression ($y = b_{0} + b_{1}*x_{1}$) but having more than 1 independent variables(IV).  \n",
    "$y = b_{0} + b_{1}*x_{1} + b_{2}*x_{2} + b_{3}*x_{3} ... b_{n}*x_{n}$\n",
    "* $y$ = Dependent variable (ID).\n",
    "* $b_0$ = Constant\n",
    "* $b_{1} ... b_{n}$ = Coefficients \n",
    "* $x_{1} ... x_{n}$ = Dependent variables (DV).\n",
    "![Multiple linear regression](images/multiple_lr.PNG)"
   ]
  },
  {
   "cell_type": "markdown",
   "metadata": {},
   "source": [
    "## Code"
   ]
  },
  {
   "cell_type": "markdown",
   "metadata": {},
   "source": [
    "### Import libraries"
   ]
  },
  {
   "cell_type": "code",
   "execution_count": 17,
   "metadata": {},
   "outputs": [],
   "source": [
    "# Import libraries\n",
    "import numpy as np\n",
    "import matplotlib.pyplot as plt\n",
    "import pandas as pd\n",
    "from sklearn.model_selection  import train_test_split\n",
    "from sklearn.linear_model import LinearRegression\n",
    "from sklearn.metrics import mean_absolute_error\n",
    "from sklearn.preprocessing import OneHotEncoder, StandardScaler\n",
    "from sklearn.compose import ColumnTransformer\n",
    "import statsmodels.api as sm"
   ]
  },
  {
   "cell_type": "markdown",
   "metadata": {},
   "source": [
    "### Dataset preprocessing"
   ]
  },
  {
   "cell_type": "code",
   "execution_count": 55,
   "metadata": {},
   "outputs": [],
   "source": [
    "# Load dataset\n",
    "data_path = '50_Startups.csv'\n",
    "dataset = pd.read_csv(data_path)\n",
    "# Create matrix of features and dependent variable.\n",
    "X = dataset.iloc[:, :-1].values\n",
    "Y = dataset.iloc[:, -1].values\n",
    "# Create dummy variables for categorical variable state (encode categoricla values)\n",
    "ct = ColumnTransformer([(\"State\", OneHotEncoder(), [3])], remainder = 'passthrough')\n",
    "X = ct.fit_transform(X)\n",
    "# Avoid Dummy Variable Trap\n",
    "X = X[:, 1:]\n",
    "# Split dataset in Training and Test sets.\n",
    "X_train, X_test, Y_train, Y_test = train_test_split(X,Y, test_size = 0.2, random_state = 42)"
   ]
  },
  {
   "cell_type": "markdown",
   "metadata": {},
   "source": [
    "### Train MLR model"
   ]
  },
  {
   "cell_type": "code",
   "execution_count": 59,
   "metadata": {},
   "outputs": [
    {
     "data": {
      "text/plain": [
       "LinearRegression(copy_X=True, fit_intercept=True, n_jobs=None, normalize=False)"
      ]
     },
     "execution_count": 59,
     "metadata": {},
     "output_type": "execute_result"
    }
   ],
   "source": [
    "mlr = LinearRegression()\n",
    "mlr.fit(X_train, Y_train)"
   ]
  },
  {
   "cell_type": "markdown",
   "metadata": {},
   "source": [
    "### Test MLR model"
   ]
  },
  {
   "cell_type": "code",
   "execution_count": 61,
   "metadata": {},
   "outputs": [
    {
     "data": {
      "image/png": "[encoded data removed]",
      "text/plain": [
       "<Figure size 432x288 with 1 Axes>"
      ]
     },
     "metadata": {
      "needs_background": "light"
     },
     "output_type": "display_data"
    }
   ],
   "source": [
    "y_pred = mlr.predict(X_test)\n",
    "plt.plot(y_pred, label='predicted', color='r')\n",
    "plt.plot(Y_test, label='real', color='b')\n",
    "plt.legend()\n",
    "plt.show()"
   ]
  },
  {
   "cell_type": "markdown",
   "metadata": {},
   "source": [
    "### Model improvement"
   ]
  },
  {
   "cell_type": "markdown",
   "metadata": {},
   "source": [
    "The MLR model is trained making use of the independent variables (in this case: R&D Spend, Administration, Marketing Spend, State) in order to try to predict the value of the dependent variable (profit). But not all the independent variables strictly have the same affectation to the dependent variable. In order to improve the model is worthless to find those less and more significant variables and train the model using the independent variables that really matters."
   ]
  },
  {
   "cell_type": "markdown",
   "metadata": {},
   "source": [
    "### Backward elimination"
   ]
  },
  {
   "cell_type": "markdown",
   "metadata": {},
   "source": [
    "![Multiple linear regression](images/bw_elimination.PNG)"
   ]
  },
  {
   "cell_type": "code",
   "execution_count": 56,
   "metadata": {},
   "outputs": [],
   "source": [
    "# Add x0 to the formula as the independent variable of b0\n",
    "# by adding a column of 1s in the first position of the dataset\n",
    "X = np.append(arr = np.ones((50, 1)).astype(int), values=X, axis=1)"
   ]
  },
  {
   "cell_type": "code",
   "execution_count": 113,
   "metadata": {},
   "outputs": [
    {
     "data": {
      "text/html": [
       "<table class=\"simpletable\">\n",
       "<caption>OLS Regression Results</caption>\n",
       "<tr>\n",
       "  <th>Dep. Variable:</th>            <td>y</td>        <th>  R-squared:         </th> <td>   0.947</td>\n",
       "</tr>\n",
       "<tr>\n",
       "  <th>Model:</th>                   <td>OLS</td>       <th>  Adj. R-squared:    </th> <td>   0.945</td>\n",
       "</tr>\n",
       "<tr>\n",
       "  <th>Method:</th>             <td>Least Squares</td>  <th>  F-statistic:       </th> <td>   849.8</td>\n",
       "</tr>\n",
       "<tr>\n",
       "  <th>Date:</th>             <td>Mon, 27 Apr 2020</td> <th>  Prob (F-statistic):</th> <td>3.50e-32</td>\n",
       "</tr>\n",
       "<tr>\n",
       "  <th>Time:</th>                 <td>19:59:41</td>     <th>  Log-Likelihood:    </th> <td> -527.44</td>\n",
       "</tr>\n",
       "<tr>\n",
       "  <th>No. Observations:</th>      <td>    50</td>      <th>  AIC:               </th> <td>   1059.</td>\n",
       "</tr>\n",
       "<tr>\n",
       "  <th>Df Residuals:</th>          <td>    48</td>      <th>  BIC:               </th> <td>   1063.</td>\n",
       "</tr>\n",
       "<tr>\n",
       "  <th>Df Model:</th>              <td>     1</td>      <th>                     </th>     <td> </td>   \n",
       "</tr>\n",
       "<tr>\n",
       "  <th>Covariance Type:</th>      <td>nonrobust</td>    <th>                     </th>     <td> </td>   \n",
       "</tr>\n",
       "</table>\n",
       "<table class=\"simpletable\">\n",
       "<tr>\n",
       "    <td></td>       <th>coef</th>     <th>std err</th>      <th>t</th>      <th>P>|t|</th>  <th>[0.025</th>    <th>0.975]</th>  \n",
       "</tr>\n",
       "<tr>\n",
       "  <th>const</th> <td> 4.903e+04</td> <td> 2537.897</td> <td>   19.320</td> <td> 0.000</td> <td> 4.39e+04</td> <td> 5.41e+04</td>\n",
       "</tr>\n",
       "<tr>\n",
       "  <th>x1</th>    <td>    0.8543</td> <td>    0.029</td> <td>   29.151</td> <td> 0.000</td> <td>    0.795</td> <td>    0.913</td>\n",
       "</tr>\n",
       "</table>\n",
       "<table class=\"simpletable\">\n",
       "<tr>\n",
       "  <th>Omnibus:</th>       <td>13.727</td> <th>  Durbin-Watson:     </th> <td>   1.116</td>\n",
       "</tr>\n",
       "<tr>\n",
       "  <th>Prob(Omnibus):</th> <td> 0.001</td> <th>  Jarque-Bera (JB):  </th> <td>  18.536</td>\n",
       "</tr>\n",
       "<tr>\n",
       "  <th>Skew:</th>          <td>-0.911</td> <th>  Prob(JB):          </th> <td>9.44e-05</td>\n",
       "</tr>\n",
       "<tr>\n",
       "  <th>Kurtosis:</th>      <td> 5.361</td> <th>  Cond. No.          </th> <td>1.65e+05</td>\n",
       "</tr>\n",
       "</table><br/><br/>Warnings:<br/>[1] Standard Errors assume that the covariance matrix of the errors is correctly specified.<br/>[2] The condition number is large, 1.65e+05. This might indicate that there are<br/>strong multicollinearity or other numerical problems."
      ],
      "text/plain": [
       "<class 'statsmodels.iolib.summary.Summary'>\n",
       "\"\"\"\n",
       "                            OLS Regression Results                            \n",
       "==============================================================================\n",
       "Dep. Variable:                      y   R-squared:                       0.947\n",
       "Model:                            OLS   Adj. R-squared:                  0.945\n",
       "Method:                 Least Squares   F-statistic:                     849.8\n",
       "Date:                Mon, 27 Apr 2020   Prob (F-statistic):           3.50e-32\n",
       "Time:                        19:59:41   Log-Likelihood:                -527.44\n",
       "No. Observations:                  50   AIC:                             1059.\n",
       "Df Residuals:                      48   BIC:                             1063.\n",
       "Df Model:                           1                                         \n",
       "Covariance Type:            nonrobust                                         \n",
       "==============================================================================\n",
       "                 coef    std err          t      P>|t|      [0.025      0.975]\n",
       "------------------------------------------------------------------------------\n",
       "const       4.903e+04   2537.897     19.320      0.000    4.39e+04    5.41e+04\n",
       "x1             0.8543      0.029     29.151      0.000       0.795       0.913\n",
       "==============================================================================\n",
       "Omnibus:                       13.727   Durbin-Watson:                   1.116\n",
       "Prob(Omnibus):                  0.001   Jarque-Bera (JB):               18.536\n",
       "Skew:                          -0.911   Prob(JB):                     9.44e-05\n",
       "Kurtosis:                       5.361   Cond. No.                     1.65e+05\n",
       "==============================================================================\n",
       "\n",
       "Warnings:\n",
       "[1] Standard Errors assume that the covariance matrix of the errors is correctly specified.\n",
       "[2] The condition number is large, 1.65e+05. This might indicate that there are\n",
       "strong multicollinearity or other numerical problems.\n",
       "\"\"\""
      ]
     },
     "execution_count": 113,
     "metadata": {},
     "output_type": "execute_result"
    }
   ],
   "source": [
    "# Create MLR model by using statsmodels API and OLS class\n",
    "X_opt = X[:, [0, 1, 2, 3, 4, 5]]\n",
    "X_opt = np.array(X_opt, dtype=float) # Avoid dtpype error\n",
    "Y = np.array(Y, dtype=float)\n",
    "mlr_OLS = sm.OLS(endog=Y, exog =X_opt, dtype=float).fit()\n",
    "# Remove the preditor with highest P if P > SL(0.05) -> Remove X2\n",
    "X_opt = np.array(X[:, [0, 1, 3, 4, 5]], dtype=float)\n",
    "mlr_OLS = sm.OLS(endog=Y, exog =X_opt, dtype=float).fit()\n",
    "# Remove the preditor with highest P if P > SL(0.05) -> Remove X1\n",
    "X_opt = np.array(X[:, [0, 3, 4, 5]], dtype=float)\n",
    "mlr_OLS = sm.OLS(endog=Y, exog =X_opt, dtype=float).fit()\n",
    "# Remove the preditor with highest P if P > SL(0.05) -> Remove X2\n",
    "X_opt = np.array(X[:, [0, 3, 5]], dtype=float)\n",
    "mlr_OLS = sm.OLS(endog=Y, exog =X_opt, dtype=float).fit()\n",
    "# Remove the preditor with highest P if P > SL(0.05) -> Remove X2\n",
    "X_opt = np.array(X[:, [0, 3, 5]], dtype=float)\n",
    "mlr_OLS = sm.OLS(endog=Y, exog =X_opt, dtype=float).fit()\n",
    "# Remove the preditor with highest P if P > SL(0.05) -> Remove X2\n",
    "X_opt = np.array(X[:, [0, 3]], dtype=float)\n",
    "mlr_OLS = sm.OLS(endog=Y, exog =X_opt, dtype=float).fit()"
   ]
  },
  {
   "cell_type": "markdown",
   "metadata": {},
   "source": [
    "### BackwardElimination useful function\n",
    "**BackwardElimination**(Y_values, X_values, sl)\n",
    "* Y_values: dependent variable column\n",
    "* X_values: independent variable values (with constant)\n",
    "* sl: Significance level (usually 0.5)"
   ]
  },
  {
   "cell_type": "code",
   "execution_count": 80,
   "metadata": {},
   "outputs": [],
   "source": [
    "def BackwardElimination(Y_values, X_values, sl):\n",
    "    idx = [i for i in range(X_values.shape[1])]\n",
    "    Y = np.array(Y_values, dtype=float)\n",
    "    X_opt = np.array(X[:, idx], dtype=float)\n",
    "    mlr_OLS = sm.OLS(endog=Y, exog =X_opt, dtype=float).fit()\n",
    "    while max(mlr_OLS.pvalues > sl):\n",
    "        r_idx = np.argmax(mlr_OLS.pvalues)\n",
    "        idx.pop(r_idx)\n",
    "        X_opt = np.array(X[:, idx], dtype=float)\n",
    "        mlr_OLS = sm.OLS(endog=Y, exog =X_opt, dtype=float).fit()\n",
    "        \n",
    "    return X_opt, mlr_OLS"
   ]
  },
  {
   "cell_type": "code",
   "execution_count": 116,
   "metadata": {},
   "outputs": [],
   "source": [
    "x_opt, mlr_OLS = BackwardElimination(Y,X,0.05)"
   ]
  }
 ],
 "metadata": {
  "kernelspec": {
   "display_name": "Python 3",
   "language": "python",
   "name": "python3"
  },
  "language_info": {
   "codemirror_mode": {
    "name": "ipython",
    "version": 3
   },
   "file_extension": ".py",
   "mimetype": "text/x-python",
   "name": "python",
   "nbconvert_exporter": "python",
   "pygments_lexer": "ipython3",
   "version": "3.8.2"
  }
 },
 "nbformat": 4,
 "nbformat_minor": 4
}
